{
  "nbformat": 4,
  "nbformat_minor": 0,
  "metadata": {
    "colab": {
      "name": "ImJoy-elFinder-Colab.ipynb",
      "provenance": [],
      "collapsed_sections": []
    },
    "kernelspec": {
      "name": "python3",
      "display_name": "Python 3"
    }
  },
  "cells": [
    {
      "cell_type": "markdown",
      "metadata": {
        "id": "MgoYmq0DjwpX",
        "colab_type": "text"
      },
      "source": [
        "## ImJoy-elFinder in Google Colab\n",
        "\n",
        "ImJoy-elFinder is a file browser designed for the web.\n",
        "\n",
        "In this notebook, we demonstrate how you can run ImJoy-elFinder in Google Colab to support previewing, downloading and uploading files.\n"
      ]
    },
    {
      "cell_type": "code",
      "metadata": {
        "id": "sS2qnw42jqh8",
        "colab_type": "code",
        "colab": {}
      },
      "source": [
        "!pip install imjoy-elfinder"
      ],
      "execution_count": null,
      "outputs": []
    },
    {
      "cell_type": "code",
      "metadata": {
        "id": "pzGAXh2RkLej",
        "colab_type": "code",
        "colab": {}
      },
      "source": [
        "import threading\n",
        "from google.colab import output\n",
        "from imjoy_elfinder.app import main\n",
        "\n",
        "# start imjoy-elfinder server\n",
        "thread = threading.Thread(target=main, args=[[\"--root-dir=/content\", \"--port=8765\"]])\n",
        "thread.start()\n",
        "\n",
        "# view the \n",
        "output.serve_kernel_port_as_iframe(8765, height='800')"
      ],
      "execution_count": null,
      "outputs": []
    },
    {
      "cell_type": "code",
      "metadata": {
        "id": "v4aBe_K_lgF0",
        "colab_type": "code",
        "colab": {}
      },
      "source": [
        "# open imjoy-elfinder in a new tab\n",
        "output.serve_kernel_port_as_window(8765)"
      ],
      "execution_count": null,
      "outputs": []
    },
    {
      "cell_type": "code",
      "metadata": {
        "id": "_ufulSAnm286",
        "colab_type": "code",
        "colab": {}
      },
      "source": [
        ""
      ],
      "execution_count": null,
      "outputs": []
    }
  ]
}
